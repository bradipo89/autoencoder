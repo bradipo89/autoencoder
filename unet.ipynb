{
 "cells": [
  {
   "cell_type": "markdown",
   "metadata": {},
   "source": [
    "<h1> U-Net </h1>"
   ]
  },
  {
   "cell_type": "code",
   "execution_count": 2,
   "metadata": {},
   "outputs": [],
   "source": [
    "import tensorflow as tf"
   ]
  },
  {
   "cell_type": "code",
   "execution_count": 4,
   "metadata": {},
   "outputs": [],
   "source": [
    "class Conv_Block_Encoder(tf.keras.layers.Layer):\n",
    "    \n",
    "    def __init__(self, filters, kernel_size, activation, padding):\n",
    "        \n",
    "        super().__init__()\n",
    "        \n",
    "        self.conv1 = tf.keras.layers.Conv2D(filters=filters, kernel_size=kernel_size, activation=activation, padding=padding)\n",
    "        self.conv2 = tf.keras.layers.Conv2D(filters=filters, kernel_size=kernel_size, activation=activation, padding=padding)\n",
    "    \n",
    "    def call(self, X):\n",
    "        \n",
    "        out = self.conv1(X)\n",
    "        out = self.conv2(out)\n",
    "        \n",
    "        return out\n",
    "    \n",
    "\n",
    "\n",
    "class Conv_Block_Decoder(tf.keras.layers.Layer):\n",
    "    \n",
    "    def __init__(self, filters, kernel_size, activation, padding, pool_size, up_filters, up_kernel, up_stride):\n",
    "        \n",
    "        super().__init__()\n",
    "        \n",
    "        self.conv1 = tf.keras.layers.Conv2D(filters=filters, kernel_size=kernel_size, activation=activation, padding=padding)\n",
    "        self.conv2 = tf.keras.layers.Conv2D(filters=filters, kernel_size=kernel_size, activation=activation, padding=padding)\n",
    "        self.trans = tf.keras.layers.Conv2DTranspose(filters=up_filters, kernel_size=up_kernel, strides=up_stride, padding=padding)\n",
    "    \n",
    "    def call(self, X1, X2):\n",
    "        \n",
    "        up = self.trans(X1)\n",
    "        out = tf.keras.layers.concatenate([up, X2], axis=3)\n",
    "        out = self.conv1(out)\n",
    "        out = self.conv2(out)\n",
    "        \n",
    "        return out"
   ]
  },
  {
   "cell_type": "code",
   "execution_count": 5,
   "metadata": {},
   "outputs": [],
   "source": [
    "class UNet(tf.keras.Model):\n",
    "    \n",
    "    def __init__(self, start_filter=64, kernel_size=(3,3), pool_size=(2,2), activation='relu', padding='same', up_kernel=(2,2), up_stride=(2,2)):\n",
    "        \n",
    "        super().__init__()\n",
    "        \n",
    "        self.ground_size_filter = 16*start_filter\n",
    "        \n",
    "        self.pool = tf.keras.layers.MaxPooling2D(pool_size)\n",
    "\n",
    "        self.c1 = Conv_Block_Encoder(filters = start_filter, kernel_size=kernel_size, activation=activation, padding=padding)\n",
    "        self.c2 = Conv_Block_Encoder(filters = 2*start_filter, kernel_size=kernel_size, activation=activation, padding=padding)\n",
    "        self.c3 = Conv_Block_Encoder(filters = 4*start_filter, kernel_size=kernel_size, activation=activation, padding=padding)\n",
    "        self.c4 = Conv_Block_Encoder(filters = 8*start_filter, kernel_size=kernel_size, activation=activation, padding=padding)\n",
    "        \n",
    "        self.cg5 = Conv_Block_Encoder(filters = 16*start_filter, kernel_size=kernel_size, activation=activation, padding=padding)\n",
    "        \n",
    "        self.d4 = Conv_Block_Decoder(filters = self.ground_size_filter, up_filters=self.ground_size_filter/2, kernel_size = kernel_size, activation=activation, padding=padding, pool_size=pool_size, up_kernel=up_kernel, up_stride=up_stride)\n",
    "        self.d3 = Conv_Block_Decoder(filters = self.ground_size_filter/2, up_filters=self.ground_size_filter/4, kernel_size = kernel_size, activation=activation, padding=padding, pool_size=pool_size, up_kernel=up_kernel, up_stride=up_stride)\n",
    "        self.d2 = Conv_Block_Decoder(filters = self.ground_size_filter/4, up_filters=self.ground_size_filter/8, kernel_size = kernel_size, activation=activation, padding=padding, pool_size=pool_size, up_kernel=up_kernel, up_stride=up_stride)\n",
    "        self.d1 = Conv_Block_Decoder(filters = self.ground_size_filter/8, up_filters=self.ground_size_filter/16, kernel_size = kernel_size, activation=activation, padding=padding, pool_size=pool_size, up_kernel=up_kernel, up_stride=up_stride)\n",
    "        \n",
    "     \n",
    "    \n",
    "    def _summary(self):\n",
    "        \n",
    "        return print('Custon Summary')\n",
    "        \n",
    "       \n",
    "    \n",
    "    def call(self, X):\n",
    "    \n",
    "        \n",
    "        e1 = self.c1(X)\n",
    "        e1_pool = self.pool(e1)\n",
    "        \n",
    "        e2 = self.c2(e1_pool)\n",
    "        e2_pool = self.pool(e2)\n",
    "        \n",
    "        e3 = self.c3(e2_pool)\n",
    "        e3_pool = self.pool(e3)\n",
    "        \n",
    "        e4 = self.c4(e3_pool)\n",
    "        e4_pool = self.pool(e4)\n",
    "        \n",
    "        \n",
    "        g5 = self.cg5(e4_pool)\n",
    "        \n",
    "        \n",
    "        d4 = self.d4(g5, e4)\n",
    "        d3 = self.d3(d4, e3)\n",
    "        d2 = self.d2(d3, e2)\n",
    "        d1 = self.d1(d2, e1)\n",
    "        \n",
    "        \n",
    "        outputs = tf.keras.layers.Conv2D(3, (1, 1), activation='sigmoid', padding='same')(d1)\n",
    "        \n",
    "        return outputs\n",
    "    \n",
    "    \n",
    "    \n",
    "    \n",
    "        \n",
    "        \n",
    "    "
   ]
  },
  {
   "cell_type": "code",
   "execution_count": 298,
   "metadata": {},
   "outputs": [
    {
     "data": {
      "text/plain": [
       "TensorShape([1, 800, 800, 3])"
      ]
     },
     "execution_count": 298,
     "metadata": {},
     "output_type": "execute_result"
    }
   ],
   "source": [
    "tf.keras.backend.clear_session()\n",
    "model = UNet()\n",
    "X = tf.random.uniform((1, 800, 800, 3))\n",
    "model(X).shape"
   ]
  },
  {
   "cell_type": "code",
   "execution_count": 279,
   "metadata": {},
   "outputs": [],
   "source": [
    "model.build((1, 800, 1024, 3))"
   ]
  },
  {
   "cell_type": "code",
   "execution_count": 304,
   "metadata": {},
   "outputs": [
    {
     "name": "stdout",
     "output_type": "stream",
     "text": [
      "Model: \"u_net\"\n",
      "____________________________________________________________________________________________________\n",
      "Layer (type)                                 Output Shape                            Param #        \n",
      "====================================================================================================\n",
      "conv__block__encoder (Conv_Block_Encoder)    multiple                                38720          \n",
      "____________________________________________________________________________________________________\n",
      "max_pooling2d (MaxPooling2D)                 multiple                                0              \n",
      "____________________________________________________________________________________________________\n",
      "conv__block__encoder_1 (Conv_Block_Encoder)  multiple                                221440         \n",
      "____________________________________________________________________________________________________\n",
      "conv__block__encoder_2 (Conv_Block_Encoder)  multiple                                885248         \n",
      "____________________________________________________________________________________________________\n",
      "conv__block__encoder_3 (Conv_Block_Encoder)  multiple                                3539968        \n",
      "____________________________________________________________________________________________________\n",
      "conv__block__encoder_4 (Conv_Block_Encoder)  multiple                                14157824       \n",
      "____________________________________________________________________________________________________\n",
      "conv__block__decoder (Conv_Block_Decoder)    multiple                                20974080       \n",
      "____________________________________________________________________________________________________\n",
      "conv__block__decoder_1 (Conv_Block_Decoder)  multiple                                5768448        \n",
      "____________________________________________________________________________________________________\n",
      "conv__block__decoder_2 (Conv_Block_Decoder)  multiple                                1442432        \n",
      "____________________________________________________________________________________________________\n",
      "conv__block__decoder_3 (Conv_Block_Decoder)  multiple                                360768         \n",
      "====================================================================================================\n",
      "Total params: 47,388,928\n",
      "Trainable params: 47,388,928\n",
      "Non-trainable params: 0\n",
      "____________________________________________________________________________________________________\n"
     ]
    }
   ],
   "source": [
    "model.summary(100)"
   ]
  },
  {
   "cell_type": "code",
   "execution_count": null,
   "metadata": {},
   "outputs": [],
   "source": []
  }
 ],
 "metadata": {
  "kernelspec": {
   "display_name": "Python 3",
   "language": "python",
   "name": "python3"
  },
  "language_info": {
   "codemirror_mode": {
    "name": "ipython",
    "version": 3
   },
   "file_extension": ".py",
   "mimetype": "text/x-python",
   "name": "python",
   "nbconvert_exporter": "python",
   "pygments_lexer": "ipython3",
   "version": "3.8.3"
  }
 },
 "nbformat": 4,
 "nbformat_minor": 4
}
